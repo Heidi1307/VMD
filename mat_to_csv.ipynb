{
 "cells": [
  {
   "cell_type": "code",
   "execution_count": 1,
   "id": "7c127703",
   "metadata": {},
   "outputs": [],
   "source": [
    "# 文件路径: mat_to_csv_converter.py\n",
    "\n",
    "import scipy.io\n",
    "import pandas as pd\n",
    "import numpy as np\n",
    "import os\n",
    "\n",
    "def mat_to_csv(mat_file_path, csv_file_path):\n",
    "    # 检查MAT文件是否存在\n",
    "    if not os.path.exists(mat_file_path):\n",
    "        raise FileNotFoundError(f\"MAT file not found: {mat_file_path}\")\n",
    "\n",
    "    # 读取MAT文件内容\n",
    "    mat_data = scipy.io.loadmat(mat_file_path)\n",
    "\n",
    "    # 筛选MAT文件中需要保存为CSV的变量（排除MAT文件的metadata）\n",
    "    mat_data_filtered = {key: value for key, value in mat_data.items() if not key.startswith(\"__\")}\n",
    "\n",
    "    # 将每个变量转换为CSV文件\n",
    "    for key, value in mat_data_filtered.items():\n",
    "        if isinstance(value, (list, np.ndarray)):\n",
    "            # 创建DataFrame\n",
    "            df = pd.DataFrame(value)\n",
    "\n",
    "            # 将DataFrame保存为CSV文件\n",
    "            output_csv = f\"{csv_file_path}_{key}.csv\"\n",
    "            df.to_csv(output_csv, index=False)\n",
    "\n",
    "            print(f\"Data from '{key}' saved to {output_csv}\")\n",
    "        else:\n",
    "            print(f\"Skipping unsupported data type for key: {key}\")"
   ]
  },
  {
   "cell_type": "code",
   "execution_count": 86,
   "id": "346d7fbf",
   "metadata": {},
   "outputs": [
    {
     "name": "stdout",
     "output_type": "stream",
     "text": [
      "Data from 'nwp' saved to 1025017.csv_nwp.csv\n"
     ]
    }
   ],
   "source": [
    "if __name__ == \"__main__\":\n",
    "    # 输入和输出文件路径\n",
    "    #mat_file = \"input_data.mat\"  # 替换为实际MAT文件路径\n",
    "    #csv_file = \"output_data\"     # 输出CSV文件的前缀\n",
    "    mat_file = r\"1025017.mat\"  # 替换为实际MAT文件路径\n",
    "    csv_file = r\"1025017.csv\"\n",
    "\n",
    "    # 执行转换\n",
    "    mat_to_csv(mat_file, csv_file)"
   ]
  },
  {
   "cell_type": "markdown",
   "id": "552d3835",
   "metadata": {},
   "source": [
    "------------------------------------------------------"
   ]
  },
  {
   "cell_type": "code",
   "execution_count": 43,
   "id": "f7646296",
   "metadata": {},
   "outputs": [],
   "source": [
    "# 文件路径: replace_csv_header.py\n",
    "\n",
    "import pandas as pd\n",
    "\n",
    "def replace_csv_header(csv_file_path, output_csv_path, replacements):\n",
    "    # 读取CSV文件\n",
    "    df = pd.read_csv(csv_file_path)\n",
    "\n",
    "    # 获取当前的列名\n",
    "    columns = df.columns.tolist()\n",
    "\n",
    "    # 对列名进行替换\n",
    "    new_columns = [replacements.get(col, col) for col in columns]\n",
    "\n",
    "    # 设置新的列名\n",
    "    df.columns = new_columns\n",
    "\n",
    "    # 保存修改后的CSV文件\n",
    "    df.to_csv(output_csv_path, index=False)\n",
    "    print(f\"Updated CSV saved to {output_csv_path}\")"
   ]
  },
  {
   "cell_type": "code",
   "execution_count": 83,
   "id": "a042068e",
   "metadata": {},
   "outputs": [
    {
     "name": "stdout",
     "output_type": "stream",
     "text": [
      "Updated CSV saved to C:\\Users\\Heidi Hu\\Desktop\\Demoooo\\海上风电数据集\\JiangSu_Offshore_2022_40\\data1015\\1025161.csv.csv\n"
     ]
    }
   ],
   "source": [
    "if __name__ == \"__main__\":\n",
    "    # 输入CSV文件路径\n",
    "    csv_file = r\"C:\\Users\\Heidi Hu\\Desktop\\Demoooo\\海上风电数据集\\JiangSu_Offshore_2022_40\\data1015\\1025161.csv_nwp.csv\"  # 替换为实际CSV文件路径\n",
    "    output_csv = r\"C:\\Users\\Heidi Hu\\Desktop\\Demoooo\\海上风电数据集\\JiangSu_Offshore_2022_40\\data1015\\1025161.csv.csv\"  # 输出修改后的CSV文件路径\n",
    "\n",
    "    # 要替换的列名，键为原始值，值为新的值\n",
    "    replacements = {'0':'longtitude','1': 'latitude',\n",
    "                    '2':'sc_time_o','3':'pre_time_o',\n",
    "                    '4':'sp','5':'rh',\n",
    "                    '6':'tcc','7':'ws10m',\n",
    "                    '8':'wd10m','9':'t2',\n",
    "                    '10':'ssrd','11':'tp',\n",
    "                    '12':'ws100m','13':'wd100m'\n",
    "                    }  # '1' 替换为 'latitude'\n",
    "\n",
    "    # 执行替换操作\n",
    "    replace_csv_header(csv_file, output_csv, replacements)\n"
   ]
  },
  {
   "cell_type": "code",
   "execution_count": null,
   "id": "97e8d259",
   "metadata": {},
   "outputs": [],
   "source": []
  }
 ],
 "metadata": {
  "kernelspec": {
   "display_name": "Python 3 (ipykernel)",
   "language": "python",
   "name": "python3"
  },
  "language_info": {
   "codemirror_mode": {
    "name": "ipython",
    "version": 3
   },
   "file_extension": ".py",
   "mimetype": "text/x-python",
   "name": "python",
   "nbconvert_exporter": "python",
   "pygments_lexer": "ipython3",
   "version": "3.9.13"
  }
 },
 "nbformat": 4,
 "nbformat_minor": 5
}
